{
 "cells": [
  {
   "cell_type": "code",
   "execution_count": 1,
   "id": "11f5e289",
   "metadata": {},
   "outputs": [],
   "source": [
    "# Initial imports\n",
    "import pandas as pd\n",
    "import matplotlib.pyplot as plt\n",
    "import numpy as np"
   ]
  },
  {
   "cell_type": "code",
   "execution_count": 2,
   "id": "60d8825a",
   "metadata": {},
   "outputs": [],
   "source": [
    "# Create data paths\n",
    "cab_path = 'cab_rides.csv'\n",
    "weather_path = 'weather.csv'"
   ]
  },
  {
   "cell_type": "code",
   "execution_count": 3,
   "id": "d478fcb6",
   "metadata": {},
   "outputs": [],
   "source": [
    "from datetime import datetime\n",
    "import pytz\n",
    "\n",
    "# Convert epoch (unix) time to datetime\n",
    "def epoch_conversion(epoch):\n",
    "    utc_datetime = datetime.fromtimestamp(epoch)\n",
    "    local_timezone = pytz.timezone('US/Eastern')\n",
    "    local_datetime = utc_datetime.replace(tzinfo=pytz.utc)\n",
    "    local_datetime = local_datetime.astimezone(local_timezone)\n",
    "    return local_datetime\n",
    "    \n",
    "# Convert epoch time (milliseconds) to datetime\n",
    "def epoch_conversion_milli(epoch):\n",
    "    epoch /= 1000\n",
    "    utc_datetime = datetime.fromtimestamp(epoch)\n",
    "    local_timezone = pytz.timezone('US/Eastern')\n",
    "    local_datetime = utc_datetime.replace(tzinfo=pytz.utc)\n",
    "    local_datetime = local_datetime.astimezone(local_timezone)\n",
    "    return local_datetime"
   ]
  },
  {
   "cell_type": "markdown",
   "id": "14427ba9",
   "metadata": {},
   "source": [
    "# Wrangle Data"
   ]
  },
  {
   "cell_type": "code",
   "execution_count": 4,
   "id": "25e70213",
   "metadata": {},
   "outputs": [],
   "source": [
    "def wrangle(cab_path, weather_path):         \n",
    "    \n",
    "    # Read in the data\n",
    "    cab_df = pd.read_csv(cab_path)\n",
    "    weather_df = pd.read_csv(weather_path)\n",
    "    \n",
    "    # We only want Lyft rides (Drop Uber rides)\n",
    "    cab_df = cab_df[cab_df['cab_type'] == 'Lyft']\n",
    "    \n",
    "    # Drop High Cardinality Columns\n",
    "    cab_df.drop(columns=['cab_type', 'id'], inplace=True)  \n",
    "    \n",
    "    # Convert epoch time to datetime\n",
    "    cab_df['time_stamp'] = cab_df['time_stamp'].apply(epoch_conversion_milli)\n",
    "    weather_df['time_stamp'] = weather_df['time_stamp'].apply(epoch_conversion) \n",
    "    \n",
    "    # cab_df feature engineering\n",
    "    cab_df['year'] = pd.DatetimeIndex(cab_df['time_stamp']).year\n",
    "    cab_df['month'] = pd.DatetimeIndex(cab_df['time_stamp']).month\n",
    "    cab_df['day'] = pd.DatetimeIndex(cab_df['time_stamp']).day\n",
    "    cab_df['hour'] = pd.DatetimeIndex(cab_df['time_stamp']).hour\n",
    "    cab_df['weekday'] = pd.DatetimeIndex(cab_df['time_stamp']).weekday\n",
    "\n",
    "    # weather_df feature engineering\n",
    "    weather_df['year'] = pd.DatetimeIndex(weather_df['time_stamp']).year\n",
    "    weather_df['month'] = pd.DatetimeIndex(weather_df['time_stamp']).month\n",
    "    weather_df['day'] = pd.DatetimeIndex(weather_df['time_stamp']).day\n",
    "    weather_df['hour'] = pd.DatetimeIndex(weather_df['time_stamp']).hour\n",
    "    weather_df['weekday'] = pd.DatetimeIndex(weather_df['time_stamp']).weekday\n",
    "    \n",
    "    # Merge cab_df & weather_df  \n",
    "    df = pd.merge(cab_df, weather_df, \n",
    "                      how='inner',\n",
    "                      left_on=['year', 'month', 'day', 'hour', 'source'],\n",
    "                      right_on=['year', 'month', 'day', 'hour', 'location']\n",
    "                     ).sort_values(by=['year', 'month', 'day', 'hour'])\n",
    "    \n",
    "    # Drop redundant columns\n",
    "    df.drop(columns=['location', 'time_stamp_x', 'time_stamp_y', 'weekday_x'], inplace=True)\n",
    "    \n",
    "    # Rename columns\n",
    "    df.rename(columns={'weekday_y': 'weekday'}, inplace=True)\n",
    "    \n",
    "    # Drop 'price' b/c it may interfere with 'surge_multiplier' (price is determined by surge_multiplier)\n",
    "    df.drop(columns='price', inplace=True)\n",
    "    \n",
    "    # Replace NaN values in column 'rain' with 0 (No rain)\n",
    "    df['rain'] = df['rain'].fillna(0)\n",
    "    \n",
    "    # Change 'surge_multiplier' to binary values \n",
    "    df.loc[df['surge_multiplier'] > 1.00, 'demand_surge'] = 1\n",
    "    df.loc[df['surge_multiplier'] == 1.00, 'demand_surge'] = 0\n",
    "    \n",
    "    # Drop surge_multiplier\n",
    "    df.drop(columns='surge_multiplier', inplace=True)\n",
    "    \n",
    "    # Undersampling to balance out target class distribution (Majority class ~92%)\n",
    "    # Split data by binary value \n",
    "    class_0 = df[df['demand_surge'] == 0]\n",
    "    class_1 = df[df['demand_surge'] == 1]\n",
    "    # Take a random subsample of class_0 to match length of class_1\n",
    "    class_0_new = class_0.sample(len(class_1), random_state=42)\n",
    "    # Concatenate class_0_new and class_1. Then sort by time ascending\n",
    "    df = pd.concat([class_0_new, class_1], axis=0).sort_values(by=['year', 'month', 'day', 'hour'])\n",
    "    \n",
    "    return df\n",
    "        "
   ]
  },
  {
   "cell_type": "code",
   "execution_count": 5,
   "id": "05f328f0",
   "metadata": {},
   "outputs": [
    {
     "data": {
      "text/html": [
       "<div>\n",
       "<style scoped>\n",
       "    .dataframe tbody tr th:only-of-type {\n",
       "        vertical-align: middle;\n",
       "    }\n",
       "\n",
       "    .dataframe tbody tr th {\n",
       "        vertical-align: top;\n",
       "    }\n",
       "\n",
       "    .dataframe thead th {\n",
       "        text-align: right;\n",
       "    }\n",
       "</style>\n",
       "<table border=\"1\" class=\"dataframe\">\n",
       "  <thead>\n",
       "    <tr style=\"text-align: right;\">\n",
       "      <th></th>\n",
       "      <th>distance</th>\n",
       "      <th>destination</th>\n",
       "      <th>source</th>\n",
       "      <th>product_id</th>\n",
       "      <th>name</th>\n",
       "      <th>year</th>\n",
       "      <th>month</th>\n",
       "      <th>day</th>\n",
       "      <th>hour</th>\n",
       "      <th>temp</th>\n",
       "      <th>clouds</th>\n",
       "      <th>pressure</th>\n",
       "      <th>rain</th>\n",
       "      <th>humidity</th>\n",
       "      <th>wind</th>\n",
       "      <th>weekday</th>\n",
       "      <th>demand_surge</th>\n",
       "    </tr>\n",
       "  </thead>\n",
       "  <tbody>\n",
       "    <tr>\n",
       "      <th>560975</th>\n",
       "      <td>1.23</td>\n",
       "      <td>West End</td>\n",
       "      <td>North End</td>\n",
       "      <td>lyft</td>\n",
       "      <td>Lyft</td>\n",
       "      <td>2018</td>\n",
       "      <td>11</td>\n",
       "      <td>25</td>\n",
       "      <td>14</td>\n",
       "      <td>41.02</td>\n",
       "      <td>0.87</td>\n",
       "      <td>1014.40</td>\n",
       "      <td>0.0</td>\n",
       "      <td>0.92</td>\n",
       "      <td>1.59</td>\n",
       "      <td>6</td>\n",
       "      <td>0.0</td>\n",
       "    </tr>\n",
       "    <tr>\n",
       "      <th>469872</th>\n",
       "      <td>1.78</td>\n",
       "      <td>Haymarket Square</td>\n",
       "      <td>Theatre District</td>\n",
       "      <td>lyft</td>\n",
       "      <td>Lyft</td>\n",
       "      <td>2018</td>\n",
       "      <td>11</td>\n",
       "      <td>25</td>\n",
       "      <td>14</td>\n",
       "      <td>40.80</td>\n",
       "      <td>0.87</td>\n",
       "      <td>1014.39</td>\n",
       "      <td>0.0</td>\n",
       "      <td>0.93</td>\n",
       "      <td>1.55</td>\n",
       "      <td>6</td>\n",
       "      <td>0.0</td>\n",
       "    </tr>\n",
       "    <tr>\n",
       "      <th>560562</th>\n",
       "      <td>3.26</td>\n",
       "      <td>North Station</td>\n",
       "      <td>Northeastern University</td>\n",
       "      <td>lyft_luxsuv</td>\n",
       "      <td>Lux Black XL</td>\n",
       "      <td>2018</td>\n",
       "      <td>11</td>\n",
       "      <td>25</td>\n",
       "      <td>14</td>\n",
       "      <td>40.81</td>\n",
       "      <td>0.89</td>\n",
       "      <td>1014.35</td>\n",
       "      <td>0.0</td>\n",
       "      <td>0.93</td>\n",
       "      <td>1.36</td>\n",
       "      <td>6</td>\n",
       "      <td>0.0</td>\n",
       "    </tr>\n",
       "    <tr>\n",
       "      <th>430154</th>\n",
       "      <td>2.40</td>\n",
       "      <td>Beacon Hill</td>\n",
       "      <td>Fenway</td>\n",
       "      <td>lyft_plus</td>\n",
       "      <td>Lyft XL</td>\n",
       "      <td>2018</td>\n",
       "      <td>11</td>\n",
       "      <td>25</td>\n",
       "      <td>14</td>\n",
       "      <td>40.84</td>\n",
       "      <td>0.88</td>\n",
       "      <td>1014.35</td>\n",
       "      <td>0.0</td>\n",
       "      <td>0.93</td>\n",
       "      <td>1.31</td>\n",
       "      <td>6</td>\n",
       "      <td>1.0</td>\n",
       "    </tr>\n",
       "    <tr>\n",
       "      <th>545932</th>\n",
       "      <td>1.66</td>\n",
       "      <td>Fenway</td>\n",
       "      <td>Back Bay</td>\n",
       "      <td>lyft_premier</td>\n",
       "      <td>Lux</td>\n",
       "      <td>2018</td>\n",
       "      <td>11</td>\n",
       "      <td>25</td>\n",
       "      <td>14</td>\n",
       "      <td>41.04</td>\n",
       "      <td>0.87</td>\n",
       "      <td>1014.39</td>\n",
       "      <td>0.0</td>\n",
       "      <td>0.92</td>\n",
       "      <td>1.46</td>\n",
       "      <td>6</td>\n",
       "      <td>1.0</td>\n",
       "    </tr>\n",
       "  </tbody>\n",
       "</table>\n",
       "</div>"
      ],
      "text/plain": [
       "        distance       destination                   source    product_id  \\\n",
       "560975      1.23          West End                North End          lyft   \n",
       "469872      1.78  Haymarket Square         Theatre District          lyft   \n",
       "560562      3.26     North Station  Northeastern University   lyft_luxsuv   \n",
       "430154      2.40       Beacon Hill                   Fenway     lyft_plus   \n",
       "545932      1.66            Fenway                 Back Bay  lyft_premier   \n",
       "\n",
       "                name  year  month  day  hour   temp  clouds  pressure  rain  \\\n",
       "560975          Lyft  2018     11   25    14  41.02    0.87   1014.40   0.0   \n",
       "469872          Lyft  2018     11   25    14  40.80    0.87   1014.39   0.0   \n",
       "560562  Lux Black XL  2018     11   25    14  40.81    0.89   1014.35   0.0   \n",
       "430154       Lyft XL  2018     11   25    14  40.84    0.88   1014.35   0.0   \n",
       "545932           Lux  2018     11   25    14  41.04    0.87   1014.39   0.0   \n",
       "\n",
       "        humidity  wind  weekday  demand_surge  \n",
       "560975      0.92  1.59        6           0.0  \n",
       "469872      0.93  1.55        6           0.0  \n",
       "560562      0.93  1.36        6           0.0  \n",
       "430154      0.93  1.31        6           1.0  \n",
       "545932      0.92  1.46        6           1.0  "
      ]
     },
     "execution_count": 5,
     "metadata": {},
     "output_type": "execute_result"
    }
   ],
   "source": [
    "df = wrangle(cab_path, weather_path)\n",
    "df.head()"
   ]
  },
  {
   "cell_type": "code",
   "execution_count": 6,
   "id": "428775c9",
   "metadata": {},
   "outputs": [
    {
     "data": {
      "text/html": [
       "<style  type=\"text/css\" >\n",
       "#T_7f915_row0_col0,#T_7f915_row1_col0,#T_7f915_row2_col0,#T_7f915_row3_col0,#T_7f915_row4_col0,#T_7f915_row5_col0,#T_7f915_row6_col0,#T_7f915_row7_col0,#T_7f915_row8_col0,#T_7f915_row9_col0,#T_7f915_row10_col0,#T_7f915_row11_col0,#T_7f915_row12_col0,#T_7f915_row13_col0,#T_7f915_row14_col0,#T_7f915_row15_col0,#T_7f915_row16_col0{\n",
       "            text-align:  left;\n",
       "        }</style><table id=\"T_7f915_\" ><thead>    <tr>        <th class=\"blank level0\" ></th>        <th class=\"col_heading level0 col0\" >description</th>    </tr>    <tr>        <th class=\"index_name level0\" >feature</th>        <th class=\"blank\" ></th>    </tr></thead><tbody>\n",
       "                <tr>\n",
       "                        <th id=\"T_7f915_level0_row0\" class=\"row_heading level0 row0\" >distance</th>\n",
       "                        <td id=\"T_7f915_row0_col0\" class=\"data row0 col0\" >distance between source and destination in miles (0.02 to 7.86)</td>\n",
       "            </tr>\n",
       "            <tr>\n",
       "                        <th id=\"T_7f915_level0_row1\" class=\"row_heading level0 row1\" >destination</th>\n",
       "                        <td id=\"T_7f915_row1_col0\" class=\"data row1 col0\" >destination of the ride</td>\n",
       "            </tr>\n",
       "            <tr>\n",
       "                        <th id=\"T_7f915_level0_row2\" class=\"row_heading level0 row2\" >source</th>\n",
       "                        <td id=\"T_7f915_row2_col0\" class=\"data row2 col0\" >the starting point of the ride</td>\n",
       "            </tr>\n",
       "            <tr>\n",
       "                        <th id=\"T_7f915_level0_row3\" class=\"row_heading level0 row3\" >product_id</th>\n",
       "                        <td id=\"T_7f915_row3_col0\" class=\"data row3 col0\" >Lyft identifier for cab type (lyft, lyft_lux, lyft_luxsuv, lyft_plus, lyft_premier, lyft_line)</td>\n",
       "            </tr>\n",
       "            <tr>\n",
       "                        <th id=\"T_7f915_level0_row4\" class=\"row_heading level0 row4\" >name</th>\n",
       "                        <td id=\"T_7f915_row4_col0\" class=\"data row4 col0\" >visible type of the cab (Lyft, Lux Black, Lux Black XL, Lyft XL, Lux, Shared)</td>\n",
       "            </tr>\n",
       "            <tr>\n",
       "                        <th id=\"T_7f915_level0_row5\" class=\"row_heading level0 row5\" >year</th>\n",
       "                        <td id=\"T_7f915_row5_col0\" class=\"data row5 col0\" >year of observation (2018)</td>\n",
       "            </tr>\n",
       "            <tr>\n",
       "                        <th id=\"T_7f915_level0_row6\" class=\"row_heading level0 row6\" >month</th>\n",
       "                        <td id=\"T_7f915_row6_col0\" class=\"data row6 col0\" >month of observation (11 to 12)</td>\n",
       "            </tr>\n",
       "            <tr>\n",
       "                        <th id=\"T_7f915_level0_row7\" class=\"row_heading level0 row7\" >day</th>\n",
       "                        <td id=\"T_7f915_row7_col0\" class=\"data row7 col0\" >day of observations (1 to 30)</td>\n",
       "            </tr>\n",
       "            <tr>\n",
       "                        <th id=\"T_7f915_level0_row8\" class=\"row_heading level0 row8\" >hour</th>\n",
       "                        <td id=\"T_7f915_row8_col0\" class=\"data row8 col0\" >hour of observation (0 to 23)</td>\n",
       "            </tr>\n",
       "            <tr>\n",
       "                        <th id=\"T_7f915_level0_row9\" class=\"row_heading level0 row9\" >temp</th>\n",
       "                        <td id=\"T_7f915_row9_col0\" class=\"data row9 col0\" >temperature in Fahrenheit (19.6 to 55.4)</td>\n",
       "            </tr>\n",
       "            <tr>\n",
       "                        <th id=\"T_7f915_level0_row10\" class=\"row_heading level0 row10\" >clouds</th>\n",
       "                        <td id=\"T_7f915_row10_col0\" class=\"data row10 col0\" >clouds (0 to 1)</td>\n",
       "            </tr>\n",
       "            <tr>\n",
       "                        <th id=\"T_7f915_level0_row11\" class=\"row_heading level0 row11\" >pressure</th>\n",
       "                        <td id=\"T_7f915_row11_col0\" class=\"data row11 col0\" >pressure in millibars (988 to 1040)</td>\n",
       "            </tr>\n",
       "            <tr>\n",
       "                        <th id=\"T_7f915_level0_row12\" class=\"row_heading level0 row12\" >rain</th>\n",
       "                        <td id=\"T_7f915_row12_col0\" class=\"data row12 col0\" >rain in the last hour in inches (0 to 0.78)</td>\n",
       "            </tr>\n",
       "            <tr>\n",
       "                        <th id=\"T_7f915_level0_row13\" class=\"row_heading level0 row13\" >humidity</th>\n",
       "                        <td id=\"T_7f915_row13_col0\" class=\"data row13 col0\" >humidity in % (0.45 to 0.99)</td>\n",
       "            </tr>\n",
       "            <tr>\n",
       "                        <th id=\"T_7f915_level0_row14\" class=\"row_heading level0 row14\" >wind</th>\n",
       "                        <td id=\"T_7f915_row14_col0\" class=\"data row14 col0\" >wind speed in mph (0.29 to 18.2)</td>\n",
       "            </tr>\n",
       "            <tr>\n",
       "                        <th id=\"T_7f915_level0_row15\" class=\"row_heading level0 row15\" >weekday</th>\n",
       "                        <td id=\"T_7f915_row15_col0\" class=\"data row15 col0\" >day of the week (0=Monday to 6=Sunday)</td>\n",
       "            </tr>\n",
       "            <tr>\n",
       "                        <th id=\"T_7f915_level0_row16\" class=\"row_heading level0 row16\" >demand_surge</th>\n",
       "                        <td id=\"T_7f915_row16_col0\" class=\"data row16 col0\" >surge in demand for a ride (0=False, 1=True)</td>\n",
       "            </tr>\n",
       "    </tbody></table>"
      ],
      "text/plain": [
       "<pandas.io.formats.style.Styler at 0x122452910>"
      ]
     },
     "metadata": {},
     "output_type": "display_data"
    }
   ],
   "source": [
    "# Create visual of features and descriptions\n",
    "description = ['distance between source and destination in miles (0.02 to 7.86)',\n",
    "              'destination of the ride',\n",
    "              'the starting point of the ride',\n",
    "              'Lyft identifier for cab type (lyft, lyft_lux, lyft_luxsuv, lyft_plus, lyft_premier, lyft_line)',\n",
    "              'visible type of the cab (Lyft, Lux Black, Lux Black XL, Lyft XL, Lux, Shared)',\n",
    "              'year of observation (2018)',\n",
    "               'month of observation (11 to 12)',\n",
    "               'day of observations (1 to 30)',\n",
    "               'hour of observation (0 to 23)',\n",
    "               'temperature in Fahrenheit (19.6 to 55.4)',\n",
    "               'clouds (0 to 1)',\n",
    "               'pressure in millibars (988 to 1040)',\n",
    "               'rain in the last hour in inches (0 to 0.78)',\n",
    "               'humidity in % (0.45 to 0.99)',\n",
    "               'wind speed in mph (0.29 to 18.2)',\n",
    "               'day of the week (0=Monday to 6=Sunday)',\n",
    "               'surge in demand for a ride (0=False, 1=True)']\n",
    "\n",
    "feature_desc = pd.DataFrame(data={'feature': df.columns,\n",
    "                                 'description': description}).set_index('feature')\n",
    "left = feature_desc.style.set_properties(**{'text-align': 'left'})\n",
    "display(left)"
   ]
  },
  {
   "cell_type": "markdown",
   "id": "a8baa23a",
   "metadata": {},
   "source": [
    "# Split Data"
   ]
  },
  {
   "cell_type": "code",
   "execution_count": 7,
   "id": "496126c2",
   "metadata": {},
   "outputs": [],
   "source": [
    "# Split data into predictors and target DataFrames\n",
    "X = df.drop(columns='demand_surge')\n",
    "y = df['demand_surge']"
   ]
  },
  {
   "cell_type": "code",
   "execution_count": 8,
   "id": "d5c9dd1d",
   "metadata": {},
   "outputs": [],
   "source": [
    "# Split Data into Train, Validation, & Test sets while considering factor of time series.\n",
    "\n",
    "# Training set first 70% of data\n",
    "train_mask = round(len(df) * 0.70)\n",
    "X_train, y_train = X[:train_mask], y[:train_mask]\n",
    "\n",
    "# Validation set 15% of data after Training set\n",
    "val_mask = train_mask + round(len(df) * 0.15)\n",
    "X_val, y_val = X[train_mask:val_mask], y[train_mask:val_mask]\n",
    "\n",
    "# Test set 15% of data after Validation set\n",
    "X_test, y_test = X[val_mask:], y[val_mask:]"
   ]
  },
  {
   "cell_type": "markdown",
   "id": "f7440c5e",
   "metadata": {},
   "source": [
    "# Establish Baseline"
   ]
  },
  {
   "cell_type": "code",
   "execution_count": 9,
   "id": "f743e373",
   "metadata": {},
   "outputs": [
    {
     "name": "stdout",
     "output_type": "stream",
     "text": [
      "Baseline Accuracy Score: 0.5009579078548444\n"
     ]
    }
   ],
   "source": [
    "print(\"Baseline Accuracy Score:\", y_train.value_counts(normalize=True).max())"
   ]
  },
  {
   "cell_type": "markdown",
   "id": "a7becf38",
   "metadata": {},
   "source": [
    "# Build Model"
   ]
  },
  {
   "cell_type": "markdown",
   "id": "de2f74f7",
   "metadata": {},
   "source": [
    "#### Logistic Regression"
   ]
  },
  {
   "cell_type": "code",
   "execution_count": 10,
   "id": "8ffc7f3f",
   "metadata": {},
   "outputs": [
    {
     "name": "stderr",
     "output_type": "stream",
     "text": [
      "/Users/andrewlee/.local/share/virtualenvs/testenv-BUA7eiiW/lib/python3.8/site-packages/sklearn/linear_model/_logistic.py:763: ConvergenceWarning: lbfgs failed to converge (status=1):\n",
      "STOP: TOTAL NO. of ITERATIONS REACHED LIMIT.\n",
      "\n",
      "Increase the number of iterations (max_iter) or scale the data as shown in:\n",
      "    https://scikit-learn.org/stable/modules/preprocessing.html\n",
      "Please also refer to the documentation for alternative solver options:\n",
      "    https://scikit-learn.org/stable/modules/linear_model.html#logistic-regression\n",
      "  n_iter_i = _check_optimize_result(\n"
     ]
    },
    {
     "data": {
      "text/plain": [
       "Pipeline(steps=[('onehotencoder', OneHotEncoder(handle_unknown='ignore')),\n",
       "                ('standardscaler', StandardScaler(with_mean=False)),\n",
       "                ('logisticregression', LogisticRegression())])"
      ]
     },
     "execution_count": 10,
     "metadata": {},
     "output_type": "execute_result"
    }
   ],
   "source": [
    "from sklearn.pipeline import make_pipeline\n",
    "from sklearn.preprocessing import OrdinalEncoder, OneHotEncoder, StandardScaler\n",
    "from sklearn.linear_model import LogisticRegression\n",
    "\n",
    "# Create model pipeline with Logistic Regression\n",
    "# OneHotEncoder to deal with categorical variables and StandardScaler to distribute the features evenly.\n",
    "\n",
    "model_logr = make_pipeline(OneHotEncoder(handle_unknown='ignore'),\n",
    "                           StandardScaler(with_mean=False),\n",
    "                           LogisticRegression()\n",
    "                          )\n",
    "\n",
    "model_logr.fit(X_train, y_train)"
   ]
  },
  {
   "cell_type": "markdown",
   "id": "9dd93e0e",
   "metadata": {},
   "source": [
    "#### Random Forest Classifier"
   ]
  },
  {
   "cell_type": "code",
   "execution_count": 11,
   "id": "5391ffc4",
   "metadata": {},
   "outputs": [
    {
     "data": {
      "text/plain": [
       "Pipeline(steps=[('ordinalencoder', OrdinalEncoder(handle_unknown='ignore')),\n",
       "                ('randomforestclassifier',\n",
       "                 RandomForestClassifier(n_jobs=-1, random_state=42))])"
      ]
     },
     "execution_count": 11,
     "metadata": {},
     "output_type": "execute_result"
    }
   ],
   "source": [
    "from sklearn.ensemble import RandomForestClassifier\n",
    "\n",
    "# Create model pipeline with Random Forest Classifier\n",
    "# OrdinalEncoder for ensemble methods\n",
    "model_rf = make_pipeline(\n",
    "    OrdinalEncoder(handle_unknown='ignore'),\n",
    "    RandomForestClassifier(random_state=42, n_jobs=-1)\n",
    ")\n",
    "\n",
    "model_rf.fit(X_train, y_train)"
   ]
  },
  {
   "cell_type": "markdown",
   "id": "5d89a87f",
   "metadata": {},
   "source": [
    "#### Gradient Boosting Classifier"
   ]
  },
  {
   "cell_type": "code",
   "execution_count": 12,
   "id": "b0876865",
   "metadata": {},
   "outputs": [
    {
     "data": {
      "text/plain": [
       "Pipeline(steps=[('ordinalencoder', OrdinalEncoder(handle_unknown='ignore')),\n",
       "                ('gradientboostingclassifier',\n",
       "                 GradientBoostingClassifier(random_state=42))])"
      ]
     },
     "execution_count": 12,
     "metadata": {},
     "output_type": "execute_result"
    }
   ],
   "source": [
    "from sklearn.ensemble import GradientBoostingClassifier\n",
    "\n",
    "# Create model pipeline with Gradient Boosting Classifier\n",
    "# OrdinalEncoder for ensemble methods\n",
    "model_gb = make_pipeline(OrdinalEncoder(handle_unknown='ignore'),\n",
    "                         GradientBoostingClassifier(random_state=42))\n",
    "\n",
    "model_gb.fit(X_train, y_train)"
   ]
  },
  {
   "cell_type": "markdown",
   "id": "d683ca97",
   "metadata": {},
   "source": [
    "# Check Metrics"
   ]
  },
  {
   "cell_type": "markdown",
   "id": "1970dca2",
   "metadata": {},
   "source": [
    "#### Logistic Regression"
   ]
  },
  {
   "cell_type": "code",
   "execution_count": 13,
   "id": "d51327e9",
   "metadata": {},
   "outputs": [
    {
     "name": "stdout",
     "output_type": "stream",
     "text": [
      "Training Accuracy Score (LogR): 0.7708089206331492\n",
      "Validation Accuracy Score (LogR): 0.5745161010328964\n"
     ]
    }
   ],
   "source": [
    "print('Training Accuracy Score (LogR):', model_logr.score(X_train, y_train))\n",
    "print('Validation Accuracy Score (LogR):', model_logr.score(X_val, y_val))"
   ]
  },
  {
   "cell_type": "markdown",
   "id": "19663127",
   "metadata": {},
   "source": [
    "#### Random Forest Classifier"
   ]
  },
  {
   "cell_type": "code",
   "execution_count": 14,
   "id": "eecf83a7",
   "metadata": {},
   "outputs": [
    {
     "name": "stdout",
     "output_type": "stream",
     "text": [
      "Training Accuracy Score (RF): 0.9912021278574484\n",
      "Validation Accuracy Score (RF): 0.5581112750629286\n"
     ]
    }
   ],
   "source": [
    "print('Training Accuracy Score (RF):', model_rf.score(X_train, y_train))\n",
    "print('Validation Accuracy Score (RF):', model_rf.score(X_val, y_val))"
   ]
  },
  {
   "cell_type": "markdown",
   "id": "c566152f",
   "metadata": {},
   "source": [
    "#### Gradient Boosting Classifier"
   ]
  },
  {
   "cell_type": "code",
   "execution_count": 15,
   "id": "543fafa9",
   "metadata": {},
   "outputs": [
    {
     "name": "stdout",
     "output_type": "stream",
     "text": [
      "Training Accuracy Score (GB): 0.6894518535051988\n",
      "Validation Accuracy Score (GB): 0.6193906778925441\n"
     ]
    }
   ],
   "source": [
    "print('Training Accuracy Score (GB):', model_gb.score(X_train, y_train))\n",
    "print('Validation Accuracy Score (GB):', model_gb.score(X_val, y_val))"
   ]
  },
  {
   "cell_type": "markdown",
   "id": "e0211d31",
   "metadata": {},
   "source": [
    "### Classification Report"
   ]
  },
  {
   "cell_type": "code",
   "execution_count": 16,
   "id": "0b2d23ae",
   "metadata": {},
   "outputs": [
    {
     "name": "stdout",
     "output_type": "stream",
     "text": [
      "              precision    recall  f1-score   support\n",
      "\n",
      "         0.0       0.78      0.53      0.63     26830\n",
      "         1.0       0.64      0.85      0.73     26933\n",
      "\n",
      "    accuracy                           0.69     53763\n",
      "   macro avg       0.71      0.69      0.68     53763\n",
      "weighted avg       0.71      0.69      0.68     53763\n",
      "\n",
      "              precision    recall  f1-score   support\n",
      "\n",
      "         0.0       0.60      0.71      0.65      5776\n",
      "         1.0       0.64      0.53      0.58      5745\n",
      "\n",
      "    accuracy                           0.62     11521\n",
      "   macro avg       0.62      0.62      0.62     11521\n",
      "weighted avg       0.62      0.62      0.62     11521\n",
      "\n"
     ]
    }
   ],
   "source": [
    "from sklearn.metrics import classification_report\n",
    "\n",
    "# Classification Report for training data\n",
    "print(classification_report(y_train, model_gb.predict(X_train)))\n",
    "\n",
    "# Cla61.9%ssification Report for validation data\n",
    "print(classification_report(y_val, model_gb.predict(X_val)))"
   ]
  },
  {
   "cell_type": "markdown",
   "id": "0514b5f4",
   "metadata": {},
   "source": [
    "### ROC-AUC"
   ]
  },
  {
   "cell_type": "code",
   "execution_count": 17,
   "id": "ba4d8e7a",
   "metadata": {},
   "outputs": [
    {
     "data": {
      "image/png": "[encoded data removed]",
      "text/plain": [
       "<Figure size 432x288 with 1 Axes>"
      ]
     },
     "metadata": {
      "needs_background": "light"
     },
     "output_type": "display_data"
    }
   ],
   "source": [
    "from sklearn.metrics import roc_curve, plot_roc_curve\n",
    "\n",
    "# Logistic Regression ROC curve\n",
    "logr = plot_roc_curve(model_logr, X_val, y_val, color='blue')\n",
    "\n",
    "# Gradient Boosting ROC curve\n",
    "gb = plot_roc_curve(model_gb, X_val, y_val, color='orange', ax = logr.ax_)\n"
   ]
  },
  {
   "cell_type": "markdown",
   "id": "611c8b35",
   "metadata": {},
   "source": [
    "# Tune Model"
   ]
  },
  {
   "cell_type": "markdown",
   "id": "2cc325ae",
   "metadata": {},
   "source": [
    "#### RandomizedSearchCV - Iterate and find optimal hyperparameters"
   ]
  },
  {
   "cell_type": "code",
   "execution_count": 18,
   "id": "472ab7f5",
   "metadata": {},
   "outputs": [],
   "source": [
    "# Tune model and try out these hyperparameters for Gradient Boosting Classifier\n",
    "\n",
    "param_grid = {\n",
    "    'gradientboostingclassifier__loss': ['deviance', 'exponential'],\n",
    "    'gradientboostingclassifier__n_estimators': range(100, 301, 50),\n",
    "    'gradientboostingclassifier__criterion': ['friedman_mse', 'mse']\n",
    "}"
   ]
  },
  {
   "cell_type": "code",
   "execution_count": 19,
   "id": "616bda2b",
   "metadata": {},
   "outputs": [],
   "source": [
    "# Help me find which parameters to tune\n",
    "model_gb.get_params();"
   ]
  },
  {
   "cell_type": "code",
   "execution_count": null,
   "id": "a80056c7",
   "metadata": {},
   "outputs": [
    {
     "name": "stdout",
     "output_type": "stream",
     "text": [
      "Fitting 5 folds for each of 10 candidates, totalling 50 fits\n"
     ]
    }
   ],
   "source": [
    "from sklearn.model_selection import RandomizedSearchCV\n",
    "\n",
    "# Create RandomizedSearchCV model\n",
    "model_rs = RandomizedSearchCV(model_gb,\n",
    "                              param_distributions=param_grid,\n",
    "                              n_iter=10,\n",
    "                              n_jobs=-1,\n",
    "                              cv=5,\n",
    "                              verbose=5,\n",
    "                              random_state=42\n",
    "                             )\n",
    "\n",
    "model_rs.fit(X_train, y_train)"
   ]
  },
  {
   "cell_type": "code",
   "execution_count": null,
   "id": "516d963b",
   "metadata": {},
   "outputs": [],
   "source": [
    "# What were my optimal parameters?\n",
    "model_rs.best_params_"
   ]
  },
  {
   "cell_type": "code",
   "execution_count": null,
   "id": "d3659538",
   "metadata": {},
   "outputs": [],
   "source": [
    "# Let's make our optimal parameters more readable\n",
    "pd.DataFrame(data={'values': [100, 'exponential', 'mse'], \n",
    "                   'hyperparameter': ['n_estimators','loss','criterion']}).set_index('hyperparameter')\n",
    "                    "
   ]
  },
  {
   "cell_type": "code",
   "execution_count": null,
   "id": "cdb5f857",
   "metadata": {},
   "outputs": [],
   "source": [
    "# What was the best model score with our optimal hyperparameters\n",
    "model_rs.best_score_"
   ]
  },
  {
   "cell_type": "code",
   "execution_count": null,
   "id": "7702a7ab",
   "metadata": {},
   "outputs": [],
   "source": [
    "# Let's call our best model best_model\n",
    "best_model = model_rs.best_estimator_\n",
    "best_model"
   ]
  },
  {
   "cell_type": "code",
   "execution_count": null,
   "id": "1826b939",
   "metadata": {},
   "outputs": [],
   "source": [
    "# Let's find the best_model score on our Validation Data\n",
    "best_model.score(X_val, y_val)"
   ]
  },
  {
   "cell_type": "markdown",
   "id": "4f757866",
   "metadata": {},
   "source": [
    "#### Permutation Importance - Use Permutation to find most influential features"
   ]
  },
  {
   "cell_type": "code",
   "execution_count": null,
   "id": "7dd472a3",
   "metadata": {},
   "outputs": [],
   "source": [
    "from sklearn.inspection import permutation_importance\n",
    "\n",
    "perm_imp = permutation_importance(best_model,\n",
    "                                 X_val,\n",
    "                                 y_val,\n",
    "                                 n_repeats=5,\n",
    "                                 n_jobs=-1,\n",
    "                                 random_state=42)\n"
   ]
  },
  {
   "cell_type": "code",
   "execution_count": null,
   "id": "ccfa9f4f",
   "metadata": {},
   "outputs": [],
   "source": [
    "# Plot Permutation Importances in a DataFrame\n",
    "data = {'imp_mean': perm_imp['importances_mean'].round(5),\n",
    "       'imp_std': perm_imp['importances_std'].round(5)}\n",
    "\n",
    "df_perm = pd.DataFrame(data, index=X_val.columns).sort_values('imp_mean')\n",
    "df_perm"
   ]
  },
  {
   "cell_type": "code",
   "execution_count": null,
   "id": "6e9616b2",
   "metadata": {},
   "outputs": [],
   "source": [
    "# Plot Permutation Importances in a Horizontal Bar Chart\n",
    "df_perm['imp_mean'].tail().plot(kind='barh')\n",
    "plt.xlabel('% Increase to model')\n",
    "plt.ylabel('Feature')\n",
    "plt.title('Ranking Features by Permutation Importance');"
   ]
  },
  {
   "cell_type": "markdown",
   "id": "2279d9c1",
   "metadata": {},
   "source": [
    "# Communicate Results"
   ]
  },
  {
   "cell_type": "code",
   "execution_count": null,
   "id": "62bd2dfc",
   "metadata": {},
   "outputs": [],
   "source": [
    "pdp_gb_ = model_rs.best_params_\n",
    "pdp_gb_"
   ]
  },
  {
   "cell_type": "code",
   "execution_count": null,
   "id": "7cc308d8",
   "metadata": {},
   "outputs": [],
   "source": [
    "# Get to write this code below because Partial Dependence Plots (Classification) \n",
    "# & Shapley Plots can't handle pipelines.\n",
    "# Encode manually. No other Transformers needed.\n",
    "\n",
    "import category_encoders as ce\n",
    "import shap\n",
    "\n",
    "encoder = ce.OrdinalEncoder(handle_unknown='ignore')\n",
    "XT_train = encoder.fit_transform(X_train)\n",
    "XT_val = encoder.fit_transform(X_val)\n",
    "XT_test = encoder.fit_transform(X_test)\n",
    "\n",
    "# This model is the same as best_model\n",
    "pdp_gb = GradientBoostingClassifier(random_state=42, loss='exponential', criterion='mse')\n",
    "\n",
    "pdp_gb.fit(XT_train, y_train)"
   ]
  },
  {
   "cell_type": "markdown",
   "id": "bd8462a8",
   "metadata": {},
   "source": [
    "#### Partial Dependence Plot - One variable"
   ]
  },
  {
   "cell_type": "code",
   "execution_count": null,
   "id": "c2aa87dc",
   "metadata": {},
   "outputs": [],
   "source": [
    "from pdpbox.pdp import pdp_isolate, pdp_plot\n",
    "\n",
    "feature='source'\n",
    "\n",
    "isolate = pdp_isolate(model=pdp_gb,\n",
    "                     dataset=XT_val,\n",
    "                     model_features=X_val.columns,\n",
    "                     feature=feature)"
   ]
  },
  {
   "cell_type": "code",
   "execution_count": null,
   "id": "808fa4bf",
   "metadata": {},
   "outputs": [],
   "source": [
    "# Automate x-axis labeling\n",
    "for item in encoder.mapping:\n",
    "    if item['col'] == feature:\n",
    "        feature_mapping = item['mapping']\n",
    "        \n",
    "feature_mapping = feature_mapping[feature_mapping.index.dropna()]\n",
    "category_names = feature_mapping.index.tolist()\n",
    "category_codes = feature_mapping.values.tolist()"
   ]
  },
  {
   "cell_type": "code",
   "execution_count": null,
   "id": "b9e96615",
   "metadata": {},
   "outputs": [],
   "source": [
    "pdp_plot(isolate, feature)\n",
    "\n",
    "# Automatically change the xticks labels\n",
    "plt.ylabel('Predicted Demand Surge Probability')\n",
    "plt.xticks(category_codes, category_names, rotation=45, size=12);"
   ]
  },
  {
   "cell_type": "code",
   "execution_count": null,
   "id": "17cc8e60",
   "metadata": {},
   "outputs": [],
   "source": [
    "feature2='name'\n",
    "\n",
    "isolate2 = pdp_isolate(model=pdp_gb,\n",
    "                     dataset=XT_val,\n",
    "                     model_features=X_val.columns,\n",
    "                     feature=feature2)\n",
    "\n",
    "# Automate x-axis labeling\n",
    "for item in encoder.mapping:\n",
    "    if item['col'] == feature2:\n",
    "        feature_mapping2 = item['mapping']\n",
    "        \n",
    "feature_mapping2 = feature_mapping2[feature_mapping2.index.dropna()]\n",
    "category_names2 = feature_mapping2.index.tolist()\n",
    "category_codes2 = feature_mapping2.values.tolist()\n",
    "\n",
    "pdp_plot(isolate2, feature2)\n",
    "\n",
    "# Automatically change the xticks labels\n",
    "plt.ylabel('Predicted Demand Surge Probability')\n",
    "plt.xticks(category_codes2, category_names2, rotation=45, size=12);"
   ]
  },
  {
   "cell_type": "code",
   "execution_count": null,
   "id": "d6e286d9",
   "metadata": {},
   "outputs": [],
   "source": [
    "# Used for reference to find what our encoder values mean\n",
    "encoder.mapping;"
   ]
  },
  {
   "cell_type": "code",
   "execution_count": null,
   "id": "f857dce5",
   "metadata": {},
   "outputs": [],
   "source": [
    "# Let's make this mapping easier to visualize\n",
    "\n",
    "pd.DataFrame({'name': [1,2,3,4,5,6], 'mapping': ['Lyft','Lux Black XL','Lyft XL','Lux','Lux Black','Shared']}).set_index('name')"
   ]
  },
  {
   "cell_type": "code",
   "execution_count": null,
   "id": "058257fe",
   "metadata": {},
   "outputs": [],
   "source": [
    "# Let's make this mapping easier to visualize\n",
    "\n",
    "pd.DataFrame({'source': [1,2,3,4,5,6,7,8,9,10,11,12], \n",
    "              'mapping': ['North End','Theatre District','Northeastern University','Fenway','Back Bay',\n",
    "                          'Boston University','Haymarket Square','Financial District','West End',\n",
    "                          'North Station','South Station','Beacon Hill']}).set_index('source')\n",
    "             "
   ]
  },
  {
   "cell_type": "markdown",
   "id": "c7bf4f6e",
   "metadata": {},
   "source": [
    "#### Partial Dependence Plot (PDP) - Two Variables"
   ]
  },
  {
   "cell_type": "code",
   "execution_count": null,
   "id": "c1872a9d",
   "metadata": {},
   "outputs": [],
   "source": [
    "from pdpbox.pdp import pdp_isolate, pdp_plot, pdp_interact, pdp_interact_plot\n",
    "\n",
    "features = ['source', 'name']\n",
    "\n",
    "interaction = pdp_interact(model=pdp_gb,\n",
    "                     dataset=XT_val,\n",
    "                     model_features=X_val.columns,\n",
    "                     features=features)\n",
    "\n",
    "pdp_interact_plot(interaction, plot_type='grid', feature_names=features);"
   ]
  },
  {
   "cell_type": "markdown",
   "id": "4a9f923c",
   "metadata": {},
   "source": [
    "#### Shapley Plot"
   ]
  },
  {
   "cell_type": "code",
   "execution_count": null,
   "id": "c1ea9f39",
   "metadata": {},
   "outputs": [],
   "source": [
    "# Let's grab one observation from dataset\n",
    "# XT_val[5:6] for prediction 0\n",
    "# XT_val.head(1) for prediction 1\n",
    "\n",
    "row = XT_val[5:6]\n",
    "row"
   ]
  },
  {
   "cell_type": "code",
   "execution_count": null,
   "id": "6a53f707",
   "metadata": {},
   "outputs": [],
   "source": [
    "# What is our model prediction for this observation?\n",
    "pdp_gb.predict(row)"
   ]
  },
  {
   "cell_type": "code",
   "execution_count": null,
   "id": "7a1e4f50",
   "metadata": {},
   "outputs": [],
   "source": [
    "pdp_gb.predict_proba(row)"
   ]
  },
  {
   "cell_type": "code",
   "execution_count": null,
   "id": "97d27a23",
   "metadata": {},
   "outputs": [],
   "source": [
    "explainer = shap.TreeExplainer(pdp_gb) # No pipelines\n",
    "shap_values = explainer.shap_values(row)\n",
    "\n",
    "shap.initjs()\n",
    "shap.force_plot(explainer.expected_value,\n",
    "               shap_values,\n",
    "               features=row,\n",
    "               link='logit' # For classification, this shows predicted probabilities\n",
    "               )\n",
    "\n",
    "# There is a 0.30 probability that the prediction will be 1, therefore predict 0\n",
    "# This visualization doesn't map properly to prediction probability, something to look into..."
   ]
  },
  {
   "cell_type": "markdown",
   "id": "8e534146",
   "metadata": {},
   "source": [
    "### What day of the week is most popular?"
   ]
  },
  {
   "cell_type": "code",
   "execution_count": null,
   "id": "1fe49235",
   "metadata": {},
   "outputs": [],
   "source": [
    "# Monday == 0, Sunday == 6\n",
    "\n",
    "weekday = df[df['demand_surge'] == 1]['weekday'].value_counts(normalize=True)\n",
    "weekday"
   ]
  },
  {
   "cell_type": "markdown",
   "id": "33814b29",
   "metadata": {},
   "source": [
    "### What hour of the day is most popular?"
   ]
  },
  {
   "cell_type": "code",
   "execution_count": null,
   "id": "cd147c3e",
   "metadata": {},
   "outputs": [],
   "source": [
    "hour = df[df['demand_surge'] == 1]['hour'].value_counts(normalize=True)\n",
    "hour"
   ]
  },
  {
   "cell_type": "markdown",
   "id": "600885b0",
   "metadata": {},
   "source": [
    "### What day of the week and hour of the day is most popular?"
   ]
  },
  {
   "cell_type": "code",
   "execution_count": null,
   "id": "7ef9dbe3",
   "metadata": {},
   "outputs": [],
   "source": [
    "# Monday == 0, Sunday == 6\n",
    "\n",
    "surge_df = df[df['demand_surge'] == 1]\n",
    "group = (surge_df[['weekday', 'hour']]\n",
    "                    .groupby(['weekday', 'hour'])\n",
    "                    .size()\n",
    "                    .reset_index(name='count'))\n",
    "group"
   ]
  },
  {
   "cell_type": "code",
   "execution_count": null,
   "id": "a2f66e14",
   "metadata": {},
   "outputs": [],
   "source": [
    "import seaborn as sns\n",
    "\n",
    "surges = group.pivot('weekday', 'hour', 'count')\n",
    "\n",
    "f, ax = plt.subplots(figsize=(20,10))\n",
    "sns.heatmap(surges)\n",
    "\n",
    "# Adjust x and y axes\n",
    "plt.xticks(rotation=0, size=15)\n",
    "plt.yticks([0,1,2,3,4,5,6], ['Monday', 'Tuesday', 'Wednesday', 'Thursday', 'Friday', 'Saturday', 'Sunday'], \n",
    "           rotation=0, size=15)\n",
    "plt.xlabel('Hour', fontsize=20)\n",
    "plt.ylabel('Weekday', fontsize=20);"
   ]
  },
  {
   "cell_type": "markdown",
   "id": "0541975f",
   "metadata": {},
   "source": [
    "# Test Data"
   ]
  },
  {
   "cell_type": "code",
   "execution_count": null,
   "id": "f3b1f175",
   "metadata": {},
   "outputs": [],
   "source": [
    "best_model.score(X_test, y_test)"
   ]
  }
 ],
 "metadata": {
  "kernelspec": {
   "display_name": "Python 3",
   "language": "python",
   "name": "python3"
  },
  "language_info": {
   "codemirror_mode": {
    "name": "ipython",
    "version": 3
   },
   "file_extension": ".py",
   "mimetype": "text/x-python",
   "name": "python",
   "nbconvert_exporter": "python",
   "pygments_lexer": "ipython3",
   "version": "3.8.2"
  }
 },
 "nbformat": 4,
 "nbformat_minor": 5
}
